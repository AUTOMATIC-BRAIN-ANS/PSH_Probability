{
 "cells": [
  {
   "cell_type": "code",
   "execution_count": 1,
   "metadata": {},
   "outputs": [],
   "source": [
    "from pathlib import Path\n",
    "import json\n",
    "\n",
    "ROOT_PATH = Path(\"\")\n",
    "XAI_PATH = ROOT_PATH / \"\""
   ]
  },
  {
   "cell_type": "code",
   "execution_count": 2,
   "metadata": {},
   "outputs": [],
   "source": [
    "def load_json(file_path):\n",
    "    with open(file_path, 'r') as f:\n",
    "        return json.load(f)\n",
    "    \n",
    "def find_best_and_worst_results(base_path, dict_name='xgboost'):\n",
    "    best_results = {}\n",
    "    worst_results = {}\n",
    "    \n",
    "    for directory in base_path.iterdir():\n",
    "        if directory.is_dir() and dict_name in directory.name:\n",
    "            aggregate_results_path = directory / 'aggregate_results.json'\n",
    "            \n",
    "            if aggregate_results_path.exists():\n",
    "                with open(aggregate_results_path, 'r') as f:\n",
    "                    data = json.load(f)\n",
    "                    \n",
    "                    for result in data:\n",
    "                        metrics = result['metrics']['mean']\n",
    "                        iteration = result['iteration']\n",
    "                        params = result['params']\n",
    "                        std = result['metrics']['std']\n",
    "                        \n",
    "                        for metric in metrics:\n",
    "                            if metric not in best_results or metrics[metric] > best_results[metric]['score']:\n",
    "                                best_results[metric] = {\n",
    "                                    'directory': directory.name,\n",
    "                                    'iteration': iteration,\n",
    "                                    'score': metrics[metric],\n",
    "                                    \n",
    "                                    'all scores':metrics,\n",
    "                                    'std': std,\n",
    "                                    'params': params\n",
    "                                }\n",
    "                                \n",
    "                            if metric not in worst_results or metrics[metric] < worst_results[metric]['score']:\n",
    "                                worst_results[metric] = {\n",
    "                                    'directory': directory.name,\n",
    "                                    'iteration': iteration,\n",
    "                                    'score': metrics[metric],\n",
    "                                    'all scores':metrics\n",
    "                                }\n",
    "                                \n",
    "    return best_results, worst_results"
   ]
  },
  {
   "cell_type": "code",
   "execution_count": null,
   "metadata": {},
   "outputs": [],
   "source": [
    "best_results, worst_results = find_best_and_worst_results(XAI_PATH, dict_name='std_6h')\n",
    "\n",
    "print(\"Best Results:\")\n",
    "for metric, result in best_results.items():\n",
    "    if metric == 'roc_auc':\n",
    "        print(f\"Best {metric}:\")\n",
    "        print(json.dumps(result, indent=4))\n",
    "\n",
    "print(\"\\nWorst Results:\")\n",
    "for metric, result in worst_results.items():\n",
    "    print(f\"Worst {metric}:\")\n",
    "    print(json.dumps(result, indent=4))"
   ]
  }
 ],
 "metadata": {
  "kernelspec": {
   "display_name": ".venv",
   "language": "python",
   "name": "python3"
  },
  "language_info": {
   "codemirror_mode": {
    "name": "ipython",
    "version": 3
   },
   "file_extension": ".py",
   "mimetype": "text/x-python",
   "name": "python",
   "nbconvert_exporter": "python",
   "pygments_lexer": "ipython3",
   "version": "3.10.14"
  }
 },
 "nbformat": 4,
 "nbformat_minor": 2
}
